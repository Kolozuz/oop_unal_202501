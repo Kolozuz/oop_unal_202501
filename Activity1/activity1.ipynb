{
 "cells": [
  {
   "cell_type": "markdown",
   "id": "b0895196",
   "metadata": {},
   "source": [
    "## Ejercicio resuelto #4"
   ]
  },
  {
   "cell_type": "markdown",
   "id": "3e266cf6",
   "metadata": {
    "editable": true,
    "jp-MarkdownHeadingCollapsed": true,
    "slideshow": {
     "slide_type": ""
    },
    "tags": []
   },
   "source": [
    "### Enunciado\n",
    "A la mamá de Juan le preguntan su edad, y contesta: tengo 3 hijos, pregúntele a Juan su\n",
    "edad. Alberto tiene 2/3 de la edad de Juan, Ana tiene 4/3 de la edad de Juan y mi edad es\n",
    "la suma de las tres. Hacer un algoritmo que muestre la edad de los cuatro."
   ]
  },
  {
   "cell_type": "markdown",
   "id": "6b26df31",
   "metadata": {
    "jp-MarkdownHeadingCollapsed": true
   },
   "source": [
    "\n",
    "### Análisis\n",
    "Es necesario que al algoritmo se le proporcione la edad de Juan para calcular la edad de\n",
    "Alberto, de Ana y de la mamá."
   ]
  },
  {
   "cell_type": "code",
   "execution_count": 3,
   "id": "eb5cc66b",
   "metadata": {},
   "outputs": [
    {
     "name": "stdout",
     "output_type": "stream",
     "text": [
      "LAS EDADES SON:\n",
      " - ALBERTO: 6\n",
      " - JUAN: 9\n",
      " - ANA: 12\n",
      " - MAMA: 27\n"
     ]
    }
   ],
   "source": [
    "# Edad de Juan\n",
    "edjuan = 9\n",
    "\n",
    "# Calculos\n",
    "edalber = int(edjuan * (2/3))\n",
    "edana = int(edjuan * (4/3))\n",
    "edmama = edjuan + edalber + edana\n",
    "\n",
    "print(f\"LAS EDADES SON:\\n - ALBERTO: {edalber}\\n - JUAN: {edjuan}\\n - ANA: {edana}\\n - MAMA: {edmama}\")"
   ]
  },
  {
   "cell_type": "markdown",
   "id": "c7981abd",
   "metadata": {},
   "source": [
    "## Ejercicio resuelto #9"
   ]
  },
  {
   "cell_type": "markdown",
   "id": "33d3b3cd",
   "metadata": {},
   "source": [
    "### Enunciado\n",
    "Escribir las estructuras que calculen y muestren el valor de X, de acuerdo con lo\n",
    "siguiente:\n",
    "- X = 0 si Y < A y (A< B < C)\n",
    "- X = 1 si A <= Y < B\n",
    "- X = 2 si B <= Y < C\n",
    "- X = 3 si C <= Y\n",
    "- X = 4 si no se cumple ninguna de las condiciones anteriores."
   ]
  },
  {
   "cell_type": "markdown",
   "id": "a3068515",
   "metadata": {},
   "source": [
    "\n",
    "### Solution"
   ]
  },
  {
   "cell_type": "code",
   "execution_count": null,
   "id": "c8126300",
   "metadata": {},
   "outputs": [
    {
     "name": "stdout",
     "output_type": "stream",
     "text": [
      "X = 3\n"
     ]
    }
   ],
   "source": [
    "# Variables\n",
    "Y = 20\n",
    "A = 10\n",
    "B = 5\n",
    "C = 2\n",
    "\n",
    "# Calculo de x\n",
    "if Y < A and ((A < B) and (B < C)):\n",
    "    x = 0\n",
    "elif (A <= Y) and (Y < B):\n",
    "    x = 1\n",
    "elif (B <= Y) and (Y < C):\n",
    "    x = 2\n",
    "elif (C <= Y):\n",
    "    x = 3\n",
    "else:\n",
    "    x = 4\n",
    "\n",
    "print(f\"X = {x}\")"
   ]
  },
  {
   "cell_type": "markdown",
   "id": "172b8f62",
   "metadata": {},
   "source": [
    "## Ejercicio resuelto #10"
   ]
  },
  {
   "cell_type": "markdown",
   "id": "c432d396",
   "metadata": {},
   "source": [
    "### Enunciado\n",
    "Cierta universidad para liquidar el pago de matrícula de un estudiante le exige los\n",
    "siguientes datos:\n",
    "- Número de inscripción\n",
    "- Nombres\n",
    "- Patrimonio.\n",
    "- Estrato social.\n",
    "La universidad cobra un valor constante para cada estudiante de \\\\$50.000. Si el patrimonio\n",
    "es mayor que \\\\$2'000.000 y el estrato superior a 3, se le incrementa un porcentaje del 3%\n",
    "sobre el patrimonio. Hacer un algoritmo que muestre:\n",
    "- Número de inscripción.\n",
    "- Nombres.\n",
    "- Pago de matrícula."
   ]
  },
  {
   "cell_type": "markdown",
   "id": "5433bef4",
   "metadata": {},
   "source": [
    "\n",
    "### Solution"
   ]
  },
  {
   "cell_type": "code",
   "execution_count": 17,
   "id": "9df04deb",
   "metadata": {},
   "outputs": [
    {
     "name": "stdout",
     "output_type": "stream",
     "text": [
      "EL ESTUDIANTE CON NUMERO DE INSCRIPCION 0001 Y NOMBRE JUAN PABLO DEBE PAGAR $50000\n"
     ]
    }
   ],
   "source": [
    "# Datos del estudiante\n",
    "NI = \"0001\"\n",
    "NOM = \"JUAN PABLO\"\n",
    "PAT = 1500000\n",
    "EST = 4\n",
    "PAGMAT = 50000\n",
    "\n",
    "# Calculo del porcentaje sobre patrimonio\n",
    "porcentaje_sobre_patrimonio = 0\n",
    "\n",
    "if PAT > 2000000 and EST > 3:\n",
    "    porcentaje_sobre_patrimonio = 0.03\n",
    "\n",
    "total = PAGMAT + (PAT * porcentaje_sobre_patrimonio)\n",
    "\n",
    "print(f\"EL ESTUDIANTE CON NUMERO DE INSCRIPCION {NI} Y NOMBRE {NOM} DEBE PAGAR ${total}\")\n"
   ]
  },
  {
   "cell_type": "markdown",
   "id": "3ab844c4",
   "metadata": {},
   "source": []
  },
  {
   "cell_type": "markdown",
   "id": "57fbd1c5",
   "metadata": {},
   "source": [
    "## Ejercicio resuelto #11"
   ]
  },
  {
   "cell_type": "markdown",
   "id": "e7cbdf6e",
   "metadata": {},
   "source": [
    "### Enunciado\n",
    "Escribir un algoritmo que acepte tres números enteros diferentes y muestre el mayor de \n",
    "ellos. "
   ]
  },
  {
   "cell_type": "markdown",
   "id": "7496188e",
   "metadata": {},
   "source": [
    "\n",
    "### Solution"
   ]
  },
  {
   "cell_type": "code",
   "execution_count": 19,
   "id": "5ad2947c",
   "metadata": {},
   "outputs": [
    {
     "name": "stdout",
     "output_type": "stream",
     "text": [
      "EL MAYOR ENTRE 25, 26 Y 56 ES: 56\n"
     ]
    }
   ],
   "source": [
    "# Numeros de entrada\n",
    "n1 = 25\n",
    "n2 = 26\n",
    "n3 = 56\n",
    "\n",
    "# Calculo del numero mayor\n",
    "if n1 > n2 and n1 > n3:\n",
    "    mayor = n1\n",
    "elif n2 > n3:\n",
    "    mayor = n1\n",
    "else:\n",
    "    mayor = n3\n",
    "\n",
    "print(f\"EL MAYOR ENTRE {n1}, {n2} Y {n3} ES: {mayor}\")"
   ]
  },
  {
   "cell_type": "markdown",
   "id": "8498c353",
   "metadata": {},
   "source": [
    "## Ejercicio resuelto #12"
   ]
  },
  {
   "cell_type": "markdown",
   "id": "9c5664f1",
   "metadata": {},
   "source": [
    "### Enunciado\n",
    "Determinar la cantidad de dinero recibida por un trabajador por concepto de las horas \n",
    "semanales trabajadas en una empresa, sabiendo que cuando las horas de trabajo exceden \n",
    "de 40, el resto se considera horas extras y se pagan al doble de una hora normal, cuando \n",
    "no exceden de 8; si las horas extras exceden de 8, se pagan las primeras 8 al doble de lo \n",
    "que se paga una hora normal y el resto al triple. Del trabajador se conocen los siguientes \n",
    "datos: nombres, número de horas trabajadas en la semana y valor recibido por una hora \n",
    "normal de trabajo."
   ]
  },
  {
   "cell_type": "markdown",
   "id": "8d20b617",
   "metadata": {},
   "source": [
    "\n",
    "### Solution"
   ]
  },
  {
   "cell_type": "code",
   "execution_count": 23,
   "id": "3d0ce9fd",
   "metadata": {},
   "outputs": [
    {
     "name": "stdout",
     "output_type": "stream",
     "text": [
      "EL TRABAJADOR ELIAS JOSE DEVENGO: $284000\n"
     ]
    }
   ],
   "source": [
    "# Datos del trabajador\n",
    "NOM = \"ELIAS JOSE\"\n",
    "NHT = 53\n",
    "VHN = 4000\n",
    "\n",
    "# Calculo del salario\n",
    "salario = VHN * NHT\n",
    "\n",
    "if NHT > 40:\n",
    "    horas_extra = NHT - 40\n",
    "\n",
    "    if horas_extra > 8:\n",
    "        horas_extra_extra = horas_extra - 8\n",
    "        salario = (horas_extra_extra * (VHN * 3)) + (16 * VHN) + (40 * VHN)\n",
    "\n",
    "    else:\n",
    "        salario = (horas_extra * (VHN * 2)) + (40 * VHN)\n",
    "\n",
    "print(f\"EL TRABAJADOR {NOM} DEVENGO: ${salario}\")"
   ]
  },
  {
   "cell_type": "markdown",
   "id": "eb07455a",
   "metadata": {},
   "source": [
    "## Ejercicio resuelto #14"
   ]
  },
  {
   "cell_type": "markdown",
   "id": "d5284787",
   "metadata": {},
   "source": [
    "### Enunciado\n",
    "Una empresa con tres departamentos tiene establecido un plan de incentivos para sus \n",
    "vendedores. Al final del período, a cada departamento se le pide el importe global de las \n",
    "ventas. A los departamentos que excedan el 33% de las ventas totales se les adiciona al \n",
    "salario de los vendedores un porcentaje equivalente al 20% del salario mensual. Las \n",
    "nóminas de los tres departamentos son iguales. Si se tienen los siguientes datos: \n",
    "- Ventas del departamento 1 \n",
    "- Ventas del departamento 2 \n",
    "- Ventas del departamento 3 \n",
    "- Salario de los vendedores de cada departamento \n",
    "\n",
    "Hacer un algoritmo que determine cuánto recibirán los vendedores de cada departamento \n",
    "al finalizar el período."
   ]
  },
  {
   "cell_type": "markdown",
   "id": "e6af8e65",
   "metadata": {},
   "source": [
    "\n",
    "### Solution"
   ]
  },
  {
   "cell_type": "code",
   "execution_count": 31,
   "id": "e8fd1463",
   "metadata": {},
   "outputs": [
    {
     "name": "stdout",
     "output_type": "stream",
     "text": [
      "SALARIO DPTO1: $456384.0\n",
      "SALARIO DPTO2: $380320\n",
      "SALARIO DPTO3: $456384.0\n"
     ]
    }
   ],
   "source": [
    "# Datos de las ventas de los departamentos\n",
    "VD1 = 4200000\n",
    "VD2 = 250000\n",
    "VD3 = 3300000\n",
    "SALARIO_BASE = 380320\n",
    "\n",
    "# Calculo del salario\n",
    "VENTAS = VD1+VD2+VD3\n",
    "PORVEN = 0.33 * VENTAS\n",
    "\n",
    "salario_dep1 = SALARIO_BASE\n",
    "salario_dep2 = SALARIO_BASE\n",
    "salario_dep3 = SALARIO_BASE\n",
    "\n",
    "if VD1 > PORVEN:\n",
    "    salario_dep1 = SALARIO_BASE + (SALARIO_BASE * 0.2)\n",
    "\n",
    "if VD2 > PORVEN:\n",
    "    salario_dep2 = SALARIO_BASE + (SALARIO_BASE * 0.2)\n",
    "\n",
    "if VD3 > PORVEN:\n",
    "    salario_dep3 = SALARIO_BASE + (SALARIO_BASE * 0.2)\n",
    "\n",
    "\n",
    "print(f\"SALARIO DPTO1: ${salario_dep1}\")\n",
    "print(f\"SALARIO DPTO2: ${salario_dep2}\")\n",
    "print(f\"SALARIO DPTO3: ${salario_dep3}\")"
   ]
  },
  {
   "cell_type": "markdown",
   "id": "8ebc0222",
   "metadata": {},
   "source": [
    "## Ejercicio resuelto #15"
   ]
  },
  {
   "cell_type": "markdown",
   "id": "7f61091f",
   "metadata": {},
   "source": [
    "### Enunciado\n",
    "Se tienen cuatro esferas (A, B, C, D) de las cuales se sabe que tres son de igual peso y una \n",
    "diferente. Elaborar un algoritmo que determine cuál es la esfera diferente y si es de mayor \n",
    "o menor peso."
   ]
  },
  {
   "cell_type": "markdown",
   "id": "345eb414",
   "metadata": {},
   "source": [
    "\n",
    "### Solution"
   ]
  },
  {
   "cell_type": "code",
   "execution_count": 32,
   "id": "c71969eb",
   "metadata": {},
   "outputs": [
    {
     "name": "stdout",
     "output_type": "stream",
     "text": [
      "LA ESFERA A ES LA DIFERENTE Y ES DE MENOR PESO\n"
     ]
    }
   ],
   "source": [
    "# Datos del peso de las esferas\n",
    "PESO_A = 30\n",
    "PESO_B = 54\n",
    "PESO_C = 54\n",
    "PESO_D = 54\n",
    "\n",
    "# Calculo de la esfera de diferente peso\n",
    "\n",
    "if PESO_A == PESO_B and PESO_A == PESO_C:\n",
    "    diferente = \"D\"\n",
    "    if PESO_D > PESO_A:\n",
    "        peso_es = \"MAYOR\"\n",
    "    else:\n",
    "        peso_es = \"MENOR\"\n",
    "elif PESO_A == PESO_B and PESO_A == PESO_D:\n",
    "    diferente = \"C\"\n",
    "    if PESO_C > PESO_A:\n",
    "        peso_es = \"MAYOR\"\n",
    "    else:\n",
    "        peso_es = \"MENOR\"\n",
    "elif PESO_A == PESO_C and PESO_A == PESO_D:\n",
    "    diferente = \"B\"\n",
    "    if PESO_B > PESO_A:\n",
    "        peso_es = \"MAYOR\"\n",
    "    else:\n",
    "        peso_es = \"MENOR\"\n",
    "elif PESO_B == PESO_C and PESO_B == PESO_D:\n",
    "    diferente = \"A\"\n",
    "    if PESO_A > PESO_B:\n",
    "        peso_es = \"MAYOR\"\n",
    "    else:\n",
    "        peso_es = \"MENOR\"\n",
    "\n",
    "print(f\"LA ESFERA {diferente} ES LA DIFERENTE Y ES DE {peso_es} PESO\")"
   ]
  },
  {
   "cell_type": "markdown",
   "id": "3c6de1f3",
   "metadata": {},
   "source": [
    "## Ejercicio propuesto #22"
   ]
  },
  {
   "cell_type": "markdown",
   "id": "4ef45306",
   "metadata": {},
   "source": [
    "### Enunciado\n",
    "Elaborar un algoritmo que entre el nombre de un empleado, su salario básico por hora y el \n",
    "número de horas trabajadas en el mes; escriba su nombre y salario mensual si éste es mayor \n",
    "de $450.000, de lo contrario escriba sólo el nombre. "
   ]
  },
  {
   "cell_type": "markdown",
   "id": "929940ef",
   "metadata": {},
   "source": [
    "\n",
    "### Solution"
   ]
  },
  {
   "cell_type": "markdown",
   "id": "9beca18e",
   "metadata": {},
   "source": [
    "#### Escenario 1"
   ]
  },
  {
   "cell_type": "code",
   "execution_count": 36,
   "id": "aed197cd",
   "metadata": {},
   "outputs": [
    {
     "name": "stdout",
     "output_type": "stream",
     "text": [
      "EMPLEADO: JOHN WICK\n",
      "SALARIO: $480000\n"
     ]
    }
   ],
   "source": [
    "# Datos del empleado\n",
    "NOMBRE = \"JOHN WICK\"\n",
    "SALARIO_HORA = 10000\n",
    "HORAS_TRABAJADAS = 48\n",
    "\n",
    "# Calculo deL salario\n",
    "salario = SALARIO_HORA * HORAS_TRABAJADAS\n",
    "\n",
    "if salario > 450000:\n",
    "    print(f\"EMPLEADO: {NOMBRE}\\nSALARIO: ${salario}\")\n",
    "else:\n",
    "    print(f\"EMPLEADO: {NOMBRE}\")"
   ]
  },
  {
   "cell_type": "markdown",
   "id": "bd1b5a02",
   "metadata": {},
   "source": [
    "#### Escenario 2"
   ]
  },
  {
   "cell_type": "code",
   "execution_count": 35,
   "id": "e7d25535",
   "metadata": {},
   "outputs": [
    {
     "name": "stdout",
     "output_type": "stream",
     "text": [
      "EMPLEADO: LARA CROFT\n"
     ]
    }
   ],
   "source": [
    "# Datos del empleado\n",
    "NOMBRE = \"LARA CROFT\"\n",
    "SALARIO_HORA = 10000\n",
    "HORAS_TRABAJADAS = 20\n",
    "\n",
    "# Calculo deL salario\n",
    "salario = SALARIO_HORA * HORAS_TRABAJADAS\n",
    "\n",
    "if salario > 450000:\n",
    "    print(f\"EMPLEADO: {NOMBRE}\\nSALARIO: ${salario}\")\n",
    "else:\n",
    "    print(f\"EMPLEADO: {NOMBRE}\")"
   ]
  },
  {
   "cell_type": "markdown",
   "id": "c71d5237",
   "metadata": {},
   "source": [
    "## Ejercicio propuesto #32"
   ]
  },
  {
   "cell_type": "markdown",
   "id": "8c33b8c2",
   "metadata": {},
   "source": [
    "### Enunciado\n",
    "Un almacén de escritorios hace los siguientes descuentos: si el cliente compra menos de 5 \n",
    "unidades se le da un descuento del 10% sobre la compra; si el número de unidades es mayor \n",
    "o igual a cinco pero menos de 10 se le otorga un 20% y, si son 10 o más se le da un 40%. \n",
    "Hacer un algoritmo que determine cuánto debe pagar un cliente si el valor de cada escritorio \n",
    "es de $800.000."
   ]
  },
  {
   "cell_type": "markdown",
   "id": "411ff9f0",
   "metadata": {},
   "source": [
    "\n",
    "### Solution"
   ]
  },
  {
   "cell_type": "markdown",
   "id": "646bccde",
   "metadata": {},
   "source": [
    "#### Escenario 1"
   ]
  },
  {
   "cell_type": "code",
   "execution_count": 40,
   "id": "b17cf4f1",
   "metadata": {},
   "outputs": [
    {
     "name": "stdout",
     "output_type": "stream",
     "text": [
      "VALOR A PAGAR ES DE: $2880000.0\n",
      "FUE APLICADO UN DESCUENTO DE: 320000.0\n"
     ]
    }
   ],
   "source": [
    "# Datos de la compra\n",
    "NESCRITORIOS = 4\n",
    "VALOR_UNIDAD = 800000\n",
    "\n",
    "# Calculo del descuento a aplicar\n",
    "if NESCRITORIOS < 5:\n",
    "    discount = 0.1\n",
    "elif NESCRITORIOS >= 5 and NESCRITORIOS < 10:\n",
    "    discount = 0.2\n",
    "elif NESCRITORIOS > 10:\n",
    "    discount = 0.4\n",
    "\n",
    "neto = NESCRITORIOS * VALOR_UNIDAD\n",
    "valor_a_descontar = neto * discount\n",
    "total = neto - valor_a_descontar\n",
    "\n",
    "print(f\"VALOR A PAGAR ES DE: ${total}\\nFUE APLICADO UN DESCUENTO DE: {valor_a_descontar}\")"
   ]
  },
  {
   "cell_type": "markdown",
   "id": "cae3fb09",
   "metadata": {},
   "source": [
    "#### Escenario 2"
   ]
  },
  {
   "cell_type": "code",
   "execution_count": 41,
   "id": "0a8ee26c",
   "metadata": {},
   "outputs": [
    {
     "name": "stdout",
     "output_type": "stream",
     "text": [
      "VALOR A PAGAR ES DE: $5120000.0\n",
      "FUE APLICADO UN DESCUENTO DE: 1280000.0\n"
     ]
    }
   ],
   "source": [
    "# Datos de la compra\n",
    "NESCRITORIOS = 8\n",
    "VALOR_UNIDAD = 800000\n",
    "\n",
    "# Calculo del descuento a aplicar\n",
    "if NESCRITORIOS < 5:\n",
    "    discount = 0.1\n",
    "elif NESCRITORIOS >= 5 and NESCRITORIOS < 10:\n",
    "    discount = 0.2\n",
    "elif NESCRITORIOS > 10:\n",
    "    discount = 0.4\n",
    "\n",
    "neto = NESCRITORIOS * VALOR_UNIDAD\n",
    "valor_a_descontar = neto * discount\n",
    "total = neto - valor_a_descontar\n",
    "\n",
    "print(f\"VALOR A PAGAR ES DE: ${total}\\nFUE APLICADO UN DESCUENTO DE: {valor_a_descontar}\")"
   ]
  },
  {
   "cell_type": "markdown",
   "id": "a153ecce",
   "metadata": {},
   "source": [
    "#### Escenario 3"
   ]
  },
  {
   "cell_type": "code",
   "execution_count": 42,
   "id": "d8adea15",
   "metadata": {},
   "outputs": [
    {
     "name": "stdout",
     "output_type": "stream",
     "text": [
      "VALOR A PAGAR ES DE: $9600000.0\n",
      "FUE APLICADO UN DESCUENTO DE: 6400000.0\n"
     ]
    }
   ],
   "source": [
    "# Datos de la compra\n",
    "NESCRITORIOS = 20\n",
    "VALOR_UNIDAD = 800000\n",
    "\n",
    "# Calculo del descuento a aplicar\n",
    "if NESCRITORIOS < 5:\n",
    "    discount = 0.1\n",
    "elif NESCRITORIOS >= 5 and NESCRITORIOS < 10:\n",
    "    discount = 0.2\n",
    "elif NESCRITORIOS > 10:\n",
    "    discount = 0.4\n",
    "\n",
    "neto = NESCRITORIOS * VALOR_UNIDAD\n",
    "valor_a_descontar = neto * discount\n",
    "total = neto - valor_a_descontar\n",
    "\n",
    "print(f\"VALOR A PAGAR ES DE: ${total}\\nFUE APLICADO UN DESCUENTO DE: {valor_a_descontar}\")"
   ]
  },
  {
   "cell_type": "markdown",
   "id": "129e06ff",
   "metadata": {},
   "source": [
    "## Ejercicio propuesto #33"
   ]
  },
  {
   "cell_type": "markdown",
   "id": "8f7c2914",
   "metadata": {},
   "source": [
    "### Enunciado\n",
    "En un juego de preguntas que se responde \"SI\" o \"NO\", gana quien responda correctamente \n",
    "las tres preguntas. Si se responde mal cualquiera de ellas, ya no se pregunta la siguiente y \n",
    "termina el juego. Las preguntas son: \n",
    "1. ¿Simón Bolívar libertó a Colombia? \n",
    "2. ¿Camilo Torres fue un guerrillero? \n",
    "3. ¿El Binomio de Oro es un grupo de música vallenata? \n",
    " Diseñe el registro de entrada."
   ]
  },
  {
   "cell_type": "markdown",
   "id": "128e4467",
   "metadata": {},
   "source": [
    "\n",
    "### Solution"
   ]
  },
  {
   "cell_type": "markdown",
   "id": "54b1421f",
   "metadata": {},
   "source": [
    "#### Escenario 1"
   ]
  },
  {
   "cell_type": "code",
   "execution_count": 43,
   "id": "a99a8b2c",
   "metadata": {},
   "outputs": [
    {
     "name": "stdout",
     "output_type": "stream",
     "text": [
      "FELICIDADES!\n",
      "SUS RESPUESTAS FUERON:\n",
      " 1. SI\n",
      " 2. SI\n",
      " 3. SI\n"
     ]
    }
   ],
   "source": [
    "respuesta1 = str(input(\"¿Simón Bolívar libertó a Colombia?\"))\n",
    "\n",
    "if respuesta1 == \"si\":\n",
    "    respuesta2 = str(input(\"¿Camilo Torres fue un guerrillero?\"))\n",
    "\n",
    "    if respuesta2 == \"si\":\n",
    "        respuesta3 = str(input(\"¿El Binomio de Oro es un grupo de música vallenata? \"))\n",
    "\n",
    "        if respuesta3 == \"si\":\n",
    "            print(\"FELICIDADES!\")\n",
    "            print(\"SUS RESPUESTAS FUERON:\\n 1. SI\\n 2. SI\\n 3. SI\")\n",
    "        else:\n",
    "            print(\"GAME OVER!\")\n",
    "            print(f\"SUS RESPUESTAS FUERON:\\n 1. {respuesta1}\\n 2. {respuesta2}\\n 3. {respuesta3}\")\n",
    "    else:\n",
    "        print(\"GAME OVER!\")\n",
    "        print(f\"SUS RESPUESTAS FUERON:\\n 1. {respuesta1}\\n 2. {respuesta2}\")\n",
    "else:\n",
    "    print(\"GAME OVER!\")\n",
    "    print(f\"SUS RESPUESTAS FUERON:\\n 1. {respuesta1}\")"
   ]
  },
  {
   "cell_type": "markdown",
   "id": "7803488c",
   "metadata": {},
   "source": [
    "#### Escenario 2"
   ]
  },
  {
   "cell_type": "code",
   "execution_count": 44,
   "id": "acff1a50",
   "metadata": {},
   "outputs": [
    {
     "name": "stdout",
     "output_type": "stream",
     "text": [
      "GAME OVER!\n",
      "SUS RESPUESTAS FUERON:\n",
      " 1. no\n"
     ]
    }
   ],
   "source": [
    "respuesta1 = str(input(\"¿Simón Bolívar libertó a Colombia?\"))\n",
    "\n",
    "if respuesta1 == \"si\":\n",
    "    respuesta2 = str(input(\"¿Camilo Torres fue un guerrillero?\"))\n",
    "\n",
    "    if respuesta2 == \"si\":\n",
    "        respuesta3 = str(input(\"¿El Binomio de Oro es un grupo de música vallenata? \"))\n",
    "\n",
    "        if respuesta3 == \"si\":\n",
    "            print(\"FELICIDADES!\")\n",
    "            print(\"SUS RESPUESTAS FUERON:\\n 1. SI\\n 2. SI\\n 3. SI\")\n",
    "        else:\n",
    "            print(\"GAME OVER!\")\n",
    "            print(f\"SUS RESPUESTAS FUERON:\\n 1. {respuesta1}\\n 2. {respuesta2}\\n 3. {respuesta3}\")\n",
    "    else:\n",
    "        print(\"GAME OVER!\")\n",
    "        print(f\"SUS RESPUESTAS FUERON:\\n 1. {respuesta1}\\n 2. {respuesta2}\")\n",
    "else:\n",
    "    print(\"GAME OVER!\")\n",
    "    print(f\"SUS RESPUESTAS FUERON:\\n 1. {respuesta1}\")"
   ]
  }
 ],
 "metadata": {
  "authors": [
   {
    "name": "Juan Pablo Morales Cruz"
   }
  ],
  "kernelspec": {
   "display_name": "env",
   "language": "python",
   "name": "python3"
  },
  "language_info": {
   "codemirror_mode": {
    "name": "ipython",
    "version": 3
   },
   "file_extension": ".py",
   "mimetype": "text/x-python",
   "name": "python",
   "nbconvert_exporter": "python",
   "pygments_lexer": "ipython3",
   "version": "3.12.0"
  },
  "title": "Actividad #1 POO"
 },
 "nbformat": 4,
 "nbformat_minor": 5
}
